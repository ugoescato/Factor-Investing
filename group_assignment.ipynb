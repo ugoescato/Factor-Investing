{
 "cells": [
  {
   "cell_type": "markdown",
   "metadata": {},
   "source": [
    "# Group Assignment - Factor Investing\n",
    "## MSc Financial Engineering\n",
    "Laurent AL HALLAL  \n",
    "Ugo ESCATO  \n",
    "Zhaojie LIN  \n",
    "Malek MEDDEB"
   ]
  },
  {
   "cell_type": "code",
   "execution_count": 1,
   "metadata": {},
   "outputs": [],
   "source": [
    "import pandas as pd\n",
    "import numpy as np\n",
    "import matplotlib.pyplot as plt"
   ]
  },
  {
   "cell_type": "code",
   "execution_count": 4,
   "metadata": {},
   "outputs": [],
   "source": [
    "df = pd.read_excel('7618 US equities Mar2025 Proposed portfolio.xlsx', skiprows=1)"
   ]
  },
  {
   "cell_type": "code",
   "execution_count": 5,
   "metadata": {},
   "outputs": [
    {
     "data": {
      "text/html": [
       "<div>\n",
       "<style scoped>\n",
       "    .dataframe tbody tr th:only-of-type {\n",
       "        vertical-align: middle;\n",
       "    }\n",
       "\n",
       "    .dataframe tbody tr th {\n",
       "        vertical-align: top;\n",
       "    }\n",
       "\n",
       "    .dataframe thead th {\n",
       "        text-align: right;\n",
       "    }\n",
       "</style>\n",
       "<table border=\"1\" class=\"dataframe\">\n",
       "  <thead>\n",
       "    <tr style=\"text-align: right;\">\n",
       "      <th></th>\n",
       "      <th>Ticker</th>\n",
       "      <th>Name</th>\n",
       "      <th>Weight</th>\n",
       "      <th>id_isin</th>\n",
       "      <th>PX_LAST</th>\n",
       "      <th>Trail_12M_EPS</th>\n",
       "      <th>DVD_SH_12M</th>\n",
       "      <th>BOOK_VAL_PER_SH</th>\n",
       "      <th>TRAIL_12M_CASH_FLOW_PER_SH</th>\n",
       "      <th>TRAIL_12M_SALES_PER_SH</th>\n",
       "      <th>...</th>\n",
       "      <th>COUNTRY</th>\n",
       "      <th>COUNTRY_FULL_NAME</th>\n",
       "      <th>CUR_MKT_CAP</th>\n",
       "      <th>NET_INCOME</th>\n",
       "      <th>PE_RATIO</th>\n",
       "      <th>TOT_DEBT_TO_COM_EQY</th>\n",
       "      <th>RETURN_COM_EQY</th>\n",
       "      <th>PR_EPS_GROWTH_PLUS_YLD</th>\n",
       "      <th>Beta</th>\n",
       "      <th>Carbon intensity</th>\n",
       "    </tr>\n",
       "  </thead>\n",
       "  <tbody>\n",
       "    <tr>\n",
       "      <th>0</th>\n",
       "      <td>MSFT UW Equity</td>\n",
       "      <td>Microsoft Corp</td>\n",
       "      <td>2.6</td>\n",
       "      <td>US5949181045</td>\n",
       "      <td>404.815</td>\n",
       "      <td>11.055643</td>\n",
       "      <td>2.86</td>\n",
       "      <td>32.059742</td>\n",
       "      <td>13.808134</td>\n",
       "      <td>30.614475</td>\n",
       "      <td>...</td>\n",
       "      <td>US</td>\n",
       "      <td>UNITED STATES</td>\n",
       "      <td>3.007952e+12</td>\n",
       "      <td>72361.0</td>\n",
       "      <td>36.616143</td>\n",
       "      <td>38.521891</td>\n",
       "      <td>39.174284</td>\n",
       "      <td>19.486496</td>\n",
       "      <td>1.076258</td>\n",
       "      <td>42.130986</td>\n",
       "    </tr>\n",
       "    <tr>\n",
       "      <th>1</th>\n",
       "      <td>AAPL UW Equity</td>\n",
       "      <td>Apple Inc</td>\n",
       "      <td>2.6</td>\n",
       "      <td>US0378331005</td>\n",
       "      <td>170.250</td>\n",
       "      <td>6.420000</td>\n",
       "      <td>0.96</td>\n",
       "      <td>4.792945</td>\n",
       "      <td>7.446364</td>\n",
       "      <td>24.664874</td>\n",
       "      <td>...</td>\n",
       "      <td>US</td>\n",
       "      <td>UNITED STATES</td>\n",
       "      <td>2.628980e+12</td>\n",
       "      <td>96995.0</td>\n",
       "      <td>26.518692</td>\n",
       "      <td>199.417501</td>\n",
       "      <td>154.269379</td>\n",
       "      <td>11.563877</td>\n",
       "      <td>1.123685</td>\n",
       "      <td>42.105967</td>\n",
       "    </tr>\n",
       "    <tr>\n",
       "      <th>2</th>\n",
       "      <td>NVDA UW Equity</td>\n",
       "      <td>NVIDIA Corp</td>\n",
       "      <td>2.6</td>\n",
       "      <td>US67066G1040</td>\n",
       "      <td>887.410</td>\n",
       "      <td>12.060238</td>\n",
       "      <td>0.16</td>\n",
       "      <td>17.442370</td>\n",
       "      <td>11.379714</td>\n",
       "      <td>24.678604</td>\n",
       "      <td>...</td>\n",
       "      <td>US</td>\n",
       "      <td>UNITED STATES</td>\n",
       "      <td>2.218525e+12</td>\n",
       "      <td>29760.0</td>\n",
       "      <td>73.581464</td>\n",
       "      <td>25.724789</td>\n",
       "      <td>91.455001</td>\n",
       "      <td>38.968030</td>\n",
       "      <td>1.638658</td>\n",
       "      <td>80.523995</td>\n",
       "    </tr>\n",
       "    <tr>\n",
       "      <th>3</th>\n",
       "      <td>AMZN UW Equity</td>\n",
       "      <td>Amazon.com Inc</td>\n",
       "      <td>2.6</td>\n",
       "      <td>US0231351067</td>\n",
       "      <td>175.310</td>\n",
       "      <td>2.932093</td>\n",
       "      <td>#N/A Field Not Applicable</td>\n",
       "      <td>19.442839</td>\n",
       "      <td>8.225100</td>\n",
       "      <td>55.764876</td>\n",
       "      <td>...</td>\n",
       "      <td>US</td>\n",
       "      <td>UNITED STATES</td>\n",
       "      <td>1.821012e+12</td>\n",
       "      <td>30425.0</td>\n",
       "      <td>59.790054</td>\n",
       "      <td>76.560248</td>\n",
       "      <td>17.489753</td>\n",
       "      <td>NaN</td>\n",
       "      <td>1.303982</td>\n",
       "      <td>60.085099</td>\n",
       "    </tr>\n",
       "    <tr>\n",
       "      <th>4</th>\n",
       "      <td>META UW Equity</td>\n",
       "      <td>Meta Platforms Inc</td>\n",
       "      <td>2.6</td>\n",
       "      <td>US30303M1027</td>\n",
       "      <td>498.670</td>\n",
       "      <td>17.244147</td>\n",
       "      <td>0.5</td>\n",
       "      <td>59.807888</td>\n",
       "      <td>27.633161</td>\n",
       "      <td>52.420498</td>\n",
       "      <td>...</td>\n",
       "      <td>US</td>\n",
       "      <td>UNITED STATES</td>\n",
       "      <td>1.271760e+12</td>\n",
       "      <td>39098.0</td>\n",
       "      <td>28.918219</td>\n",
       "      <td>24.759741</td>\n",
       "      <td>28.038482</td>\n",
       "      <td>20.810251</td>\n",
       "      <td>1.215004</td>\n",
       "      <td>41.403178</td>\n",
       "    </tr>\n",
       "  </tbody>\n",
       "</table>\n",
       "<p>5 rows × 23 columns</p>\n",
       "</div>"
      ],
      "text/plain": [
       "           Ticker                Name  Weight       id_isin  PX_LAST  \\\n",
       "0  MSFT UW Equity      Microsoft Corp     2.6  US5949181045  404.815   \n",
       "1  AAPL UW Equity           Apple Inc     2.6  US0378331005  170.250   \n",
       "2  NVDA UW Equity         NVIDIA Corp     2.6  US67066G1040  887.410   \n",
       "3  AMZN UW Equity      Amazon.com Inc     2.6  US0231351067  175.310   \n",
       "4  META UW Equity  Meta Platforms Inc     2.6  US30303M1027  498.670   \n",
       "\n",
       "   Trail_12M_EPS                 DVD_SH_12M  BOOK_VAL_PER_SH  \\\n",
       "0      11.055643                       2.86        32.059742   \n",
       "1       6.420000                       0.96         4.792945   \n",
       "2      12.060238                       0.16        17.442370   \n",
       "3       2.932093  #N/A Field Not Applicable        19.442839   \n",
       "4      17.244147                        0.5        59.807888   \n",
       "\n",
       "   TRAIL_12M_CASH_FLOW_PER_SH  TRAIL_12M_SALES_PER_SH  ... COUNTRY  \\\n",
       "0                   13.808134               30.614475  ...      US   \n",
       "1                    7.446364               24.664874  ...      US   \n",
       "2                   11.379714               24.678604  ...      US   \n",
       "3                    8.225100               55.764876  ...      US   \n",
       "4                   27.633161               52.420498  ...      US   \n",
       "\n",
       "  COUNTRY_FULL_NAME   CUR_MKT_CAP NET_INCOME   PE_RATIO  TOT_DEBT_TO_COM_EQY  \\\n",
       "0     UNITED STATES  3.007952e+12    72361.0  36.616143            38.521891   \n",
       "1     UNITED STATES  2.628980e+12    96995.0  26.518692           199.417501   \n",
       "2     UNITED STATES  2.218525e+12    29760.0  73.581464            25.724789   \n",
       "3     UNITED STATES  1.821012e+12    30425.0  59.790054            76.560248   \n",
       "4     UNITED STATES  1.271760e+12    39098.0  28.918219            24.759741   \n",
       "\n",
       "   RETURN_COM_EQY  PR_EPS_GROWTH_PLUS_YLD      Beta  Carbon intensity  \n",
       "0       39.174284               19.486496  1.076258         42.130986  \n",
       "1      154.269379               11.563877  1.123685         42.105967  \n",
       "2       91.455001               38.968030  1.638658         80.523995  \n",
       "3       17.489753                     NaN  1.303982         60.085099  \n",
       "4       28.038482               20.810251  1.215004         41.403178  \n",
       "\n",
       "[5 rows x 23 columns]"
      ]
     },
     "execution_count": 5,
     "metadata": {},
     "output_type": "execute_result"
    }
   ],
   "source": [
    "df.head()"
   ]
  },
  {
   "cell_type": "markdown",
   "metadata": {},
   "source": [
    "## Fundamental Indicators"
   ]
  },
  {
   "cell_type": "code",
   "execution_count": 54,
   "metadata": {},
   "outputs": [],
   "source": [
    "ptf_pe = (np.sum(df['PX_LAST'] * df['Weight'])) / (np.sum(df['Weight'] * df['Trail_12M_EPS']))\n",
    "ptf_pb = (np.sum(df['PX_LAST'] * df['Weight'])) / (np.sum(df['Weight'] * df['BOOK_VAL_PER_SH']))\n",
    "ptf_roe = (np.sum(df['Weight'] * df['RETURN_COM_EQY'])) / 100\n",
    "ptf_debt_to_equity = (np.sum(df['Weight'] * df['TOT_DEBT_TO_COM_EQY'])) / 100\n",
    "ptf_eps_growth = (np.sum(df['Weight'] * df['PR_EPS_GROWTH_PLUS_YLD'])) / 100\n",
    "ptf_beta = np.sum(df['Weight'] * df['Beta']) / 100\n",
    "ptf_mkt_cap = np.sum(df['Weight'] * df['CUR_MKT_CAP']) / 100 / (10**6) # in million"
   ]
  },
  {
   "cell_type": "code",
   "execution_count": 68,
   "metadata": {},
   "outputs": [],
   "source": [
    "fundamental_indicators = {}\n",
    "fundamental_indicators['PE'] = np.round(ptf_pe, 2)\n",
    "fundamental_indicators['PB'] = np.round(ptf_pb, 2)\n",
    "fundamental_indicators['ROE'] = np.round(ptf_roe, 2)\n",
    "fundamental_indicators['Debt to Equity'] = np.round(ptf_debt_to_equity, 2)\n",
    "fundamental_indicators['EPS Growth (%)'] = np.round(ptf_eps_growth, 2)\n",
    "fundamental_indicators['Beta'] = np.round(ptf_beta, 2)\n",
    "fundamental_indicators['Market Cap (in million)'] = np.round(ptf_mkt_cap, 2)"
   ]
  },
  {
   "cell_type": "code",
   "execution_count": 69,
   "metadata": {},
   "outputs": [
    {
     "data": {
      "text/plain": [
       "{'PE': 29.2,\n",
       " 'PB': 6.68,\n",
       " 'ROE': 43.43,\n",
       " 'Debt to Equity': 210.02,\n",
       " 'EPS Growth (%)': 10.2,\n",
       " 'Beta': 1.03,\n",
       " 'Market Cap (in million)': 488097.43}"
      ]
     },
     "execution_count": 69,
     "metadata": {},
     "output_type": "execute_result"
    }
   ],
   "source": [
    "fundamental_indicators"
   ]
  },
  {
   "cell_type": "markdown",
   "metadata": {},
   "source": [
    "## Sector Exposure"
   ]
  },
  {
   "cell_type": "code",
   "execution_count": 70,
   "metadata": {},
   "outputs": [],
   "source": [
    "ptf_communication_services_exposure = np.sum(df[df['GICS_SECTOR_NAME'] == 'Communication Services']['Weight']) / np.sum(df['Weight']) * 100\n",
    "ptf_consumer_discretionary_exposure = np.sum(df[df['GICS_SECTOR_NAME'] == 'Consumer Discretionary']['Weight']) / np.sum(df['Weight']) * 100\n",
    "ptf_consumer_staples_exposure = np.sum(df[df['GICS_SECTOR_NAME'] == 'Consumer Staples']['Weight']) / np.sum(df['Weight']) * 100\n",
    "ptf_energy_exposure = np.sum(df[df['GICS_SECTOR_NAME'] == 'Energy']['Weight']) / np.sum(df['Weight']) * 100\n",
    "ptf_financials_exposure = np.sum(df[df['GICS_SECTOR_NAME'] == 'Financials']['Weight']) / np.sum(df['Weight']) * 100\n",
    "ptf_health_care_exposure = np.sum(df[df['GICS_SECTOR_NAME'] == 'Health Care']['Weight']) / np.sum(df['Weight']) * 100\n",
    "ptf_industrials_exposure = np.sum(df[df['GICS_SECTOR_NAME'] == 'Industrials']['Weight']) / np.sum(df['Weight']) * 100\n",
    "ptf_information_technology_exposure = np.sum(df[df['GICS_SECTOR_NAME'] == 'Information Technology']['Weight']) / np.sum(df['Weight']) * 100\n",
    "ptf_materials_exposure = np.sum(df[df['GICS_SECTOR_NAME'] == 'Materials']['Weight']) / np.sum(df['Weight']) * 100\n",
    "ptf_real_estate_exposure = np.sum(df[df['GICS_SECTOR_NAME'] == 'Real Estate']['Weight']) / np.sum(df['Weight']) * 100\n",
    "ptf_utilities_exposure = np.sum(df[df['GICS_SECTOR_NAME'] == 'Utilities']['Weight']) / np.sum(df['Weight']) * 100"
   ]
  },
  {
   "cell_type": "code",
   "execution_count": 71,
   "metadata": {},
   "outputs": [],
   "source": [
    "sector_exposures = {}\n",
    "sector_exposures['Communication Services exposure (%)'] = np.round(ptf_communication_services_exposure, 2)\n",
    "sector_exposures['Consumer Discretionary exposure (%)'] = np.round(ptf_consumer_discretionary_exposure, 2)\n",
    "sector_exposures['Consumer Staples exposure (%)'] = np.round(ptf_consumer_staples_exposure, 2)\n",
    "sector_exposures['Energy exposure (%)'] = np.round(ptf_energy_exposure, 2)\n",
    "sector_exposures['Financials exposure (%)'] = np.round(ptf_financials_exposure, 2)\n",
    "sector_exposures['Health Care exposure (%)'] = np.round(ptf_health_care_exposure, 2)\n",
    "sector_exposures['Industrials exposure (%)'] = np.round(ptf_industrials_exposure, 2)\n",
    "sector_exposures['Information Technology exposure (%)'] = np.round(ptf_information_technology_exposure, 2)\n",
    "sector_exposures['Materials exposure (%)'] = np.round(ptf_materials_exposure, 2)\n",
    "sector_exposures['Real Estate exposure (%)'] = np.round(ptf_real_estate_exposure, 2)\n",
    "sector_exposures['Utilities exposure (%)'] = np.round(ptf_utilities_exposure, 2)\n"
   ]
  },
  {
   "cell_type": "code",
   "execution_count": 72,
   "metadata": {},
   "outputs": [
    {
     "data": {
      "text/plain": [
       "{'Communication Services exposure (%)': 9.23,\n",
       " 'Consumer Discretionary exposure (%)': 9.92,\n",
       " 'Consumer Staples exposure (%)': 6.2,\n",
       " 'Energy exposure (%)': 6.44,\n",
       " 'Financials exposure (%)': 17.57,\n",
       " 'Health Care exposure (%)': 13.34,\n",
       " 'Industrials exposure (%)': 9.04,\n",
       " 'Information Technology exposure (%)': 22.36,\n",
       " 'Materials exposure (%)': 3.53,\n",
       " 'Real Estate exposure (%)': 0.13,\n",
       " 'Utilities exposure (%)': 2.24}"
      ]
     },
     "execution_count": 72,
     "metadata": {},
     "output_type": "execute_result"
    }
   ],
   "source": [
    "sector_exposures"
   ]
  },
  {
   "cell_type": "code",
   "execution_count": null,
   "metadata": {},
   "outputs": [],
   "source": []
  }
 ],
 "metadata": {
  "kernelspec": {
   "display_name": "base",
   "language": "python",
   "name": "python3"
  },
  "language_info": {
   "codemirror_mode": {
    "name": "ipython",
    "version": 3
   },
   "file_extension": ".py",
   "mimetype": "text/x-python",
   "name": "python",
   "nbconvert_exporter": "python",
   "pygments_lexer": "ipython3",
   "version": "3.12.7"
  }
 },
 "nbformat": 4,
 "nbformat_minor": 2
}
